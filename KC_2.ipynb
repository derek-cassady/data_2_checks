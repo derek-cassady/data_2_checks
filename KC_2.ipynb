{
 "cells": [
  {
   "cell_type": "markdown",
   "metadata": {},
   "source": [
    "# Knowledge Check 2"
   ]
  },
  {
   "cell_type": "markdown",
   "metadata": {},
   "source": [
    "## To-Do List\n",
    "\n",
    "- [x] Make a .ipynb that contains the following:\n",
    "    - [ ] Find and access a data set in any way.\n",
    "        - [ ] Fix character strings that aren't formatted correctly.\n",
    "        - [ ] Correct column names if they're misnamed.\n",
    "- [ ] Commit your changes.\n",
    "- [ ] Push your changes to GitHub\n",
    "    - [ ] turn in the GitHub link into Google Classroom"
   ]
  },
  {
   "cell_type": "markdown",
   "metadata": {},
   "source": [
    "## Access a Data Set"
   ]
  },
  {
   "cell_type": "markdown",
   "metadata": {},
   "source": []
  }
 ],
 "metadata": {
  "language_info": {
   "name": "python"
  },
  "orig_nbformat": 4
 },
 "nbformat": 4,
 "nbformat_minor": 2
}
