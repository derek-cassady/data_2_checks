{
 "cells": [
  {
   "cell_type": "markdown",
   "metadata": {},
   "source": [
    "# Knowledge Check 2"
   ]
  },
  {
   "cell_type": "markdown",
   "metadata": {},
   "source": [
    "## To-Do List\n",
    "\n",
    "- [x] Make a .ipynb that contains the following:\n",
    "    - [x] Find and access a data set in any way.\n",
    "        - [x] Fix character strings that aren't formatted correctly.\n",
    "        - [x] Correct column names if they're misnamed.\n",
    "- [x] Commit your changes.\n",
    "- [x] Push your changes to GitHub\n",
    "    - [x] turn in the GitHub link into Google Classroom"
   ]
  },
  {
   "cell_type": "markdown",
   "metadata": {},
   "source": [
    "## Outline\n",
    "- Title\n",
    "    - To-Do List\n",
    "    - Outline\n",
    "    - Libraries\n",
    "    - Access Data Set\n",
    "        - Setting Variable for API Call\n",
    "        - Making API Call\n",
    "    - Column list\n",
    "    - Column Order\n",
    "    - Column Types\n",
    "    - Check for Missing Data\n"
   ]
  },
  {
   "cell_type": "markdown",
   "metadata": {},
   "source": [
    "## Libraries"
   ]
  },
  {
   "cell_type": "code",
   "execution_count": 13,
   "metadata": {},
   "outputs": [],
   "source": [
    "import requests\n",
    "import pandas as pd\n",
    "import numpy as np"
   ]
  },
  {
   "cell_type": "markdown",
   "metadata": {},
   "source": [
    "## Access a Data Set"
   ]
  },
  {
   "cell_type": "markdown",
   "metadata": {},
   "source": [
    "Key for API, please use your own key from the following source if you wish to run the code:\n",
    "\n",
    "https://api.census.gov/data/key_signup.html"
   ]
  },
  {
   "cell_type": "code",
   "execution_count": 3,
   "metadata": {},
   "outputs": [],
   "source": [
    "key = 'YOUR KEY HERE'"
   ]
  },
  {
   "cell_type": "markdown",
   "metadata": {},
   "source": [
    "### Setting Variable for API Call"
   ]
  },
  {
   "cell_type": "markdown",
   "metadata": {},
   "source": [
    "Variables will pull the name, data wanted, state and county FIPS codes"
   ]
  },
  {
   "cell_type": "code",
   "execution_count": 4,
   "metadata": {},
   "outputs": [],
   "source": [
    "# Name and data wanted (total population for state and county level)\n",
    "# 'get' statement for requests parameters\n",
    "total_all = ('NAME,PCT12_001N')\n",
    "# Destination API\n",
    "url = 'https://api.census.gov/data/2020/dec/dhc'\n",
    "# 'in' statement for requests parameters\n",
    "how = 'state:*'\n",
    "# 'for' statement for requests parameters\n",
    "where = 'county:*'"
   ]
  },
  {
   "cell_type": "markdown",
   "metadata": {},
   "source": [
    "### Making API Call"
   ]
  },
  {
   "cell_type": "markdown",
   "metadata": {},
   "source": [
    "Using requests.request to call API with variables fed from previous cell. <br>\n",
    "\n",
    "Saving response to Pandas Dataframe, printing shape and DF for verifications sake\n"
   ]
  },
  {
   "cell_type": "code",
   "execution_count": 5,
   "metadata": {},
   "outputs": [
    {
     "name": "stdout",
     "output_type": "stream",
     "text": [
      "'DF_total_all' shape:\n",
      "(3221, 5)\n",
      "Data frame 'DF_total_all':\n",
      "                             NAME PCT12_001N state county   FIPS\n",
      "0        Bullitt County, Kentucky      82217    21    029  21029\n",
      "1         Butler County, Kentucky      12371    21    031  21031\n",
      "2       Caldwell County, Kentucky      12649    21    033  21033\n",
      "3       Calloway County, Kentucky      37103    21    035  21035\n",
      "4       Magoffin County, Kentucky      11637    21    153  21153\n",
      "...                           ...        ...   ...    ...    ...\n",
      "3216    Haywood County, Tennessee      17864    47    075  47075\n",
      "3217  Henderson County, Tennessee      27842    47    077  47077\n",
      "3218         Howard County, Texas      34860    48    227  48227\n",
      "3219       Hudspeth County, Texas       3202    48    229  48229\n",
      "3220           Hunt County, Texas      99956    48    231  48231\n",
      "\n",
      "[3221 rows x 5 columns]\n"
     ]
    }
   ],
   "source": [
    "# Making call to API\n",
    "r = requests.request('GET', url, params={\"get\": total_all,\n",
    "                                         \"for\": where,\n",
    "                                         \"in\": how,\n",
    "                                         \"key\": key\n",
    "                                         })\n",
    "\n",
    "# IF/ELSE to account for failed call\n",
    "if r.status_code == 200:\n",
    "    data = r.json()\n",
    "    \n",
    "    # Skip first row containing column names we don't want (['0','1','2','3'])\n",
    "    df_data = data[1:]\n",
    "\n",
    "    # Build Pandas dataframe from json data starting with row we want\n",
    "    DF_total_all = pd.DataFrame(df_data, columns=data[0])\n",
    "\n",
    "    # Join 'state' and 'county' columns into a new column 'FIPS'\n",
    "    DF_total_all['FIPS'] = DF_total_all['state'] + DF_total_all['county']\n",
    "\n",
    "    # Display the created data frame\n",
    "    print(f\"'DF_total_all' shape:\")\n",
    "    print(DF_total_all.shape)\n",
    "    print(f\"Data frame 'DF_total_all':\")\n",
    "    print(DF_total_all)\n",
    "\n",
    "else:\n",
    "    # API call failed\n",
    "    print(f\"API call for '{total_all}' failed. Status code:\", r.status_code)"
   ]
  },
  {
   "cell_type": "markdown",
   "metadata": {},
   "source": [
    "## Column list"
   ]
  },
  {
   "cell_type": "markdown",
   "metadata": {},
   "source": [
    "Show the column names, change column names from list, show new column names"
   ]
  },
  {
   "cell_type": "code",
   "execution_count": 6,
   "metadata": {},
   "outputs": [
    {
     "name": "stdout",
     "output_type": "stream",
     "text": [
      "Columns of DF_total_all:\n",
      "NAME\n",
      "PCT12_001N\n",
      "state\n",
      "county\n",
      "FIPS\n",
      "Columns of DF_total_all:\n",
      "Location\n",
      "Total\n",
      "State\n",
      "County\n",
      "FIPS\n"
     ]
    }
   ],
   "source": [
    "col_names = ['Location','Total','State','County','FIPS']\n",
    "\n",
    "# Print the columns\n",
    "print(\"Columns of DF_total_all:\")\n",
    "for column in DF_total_all.columns:\n",
    "    print(column)\n",
    "\n",
    "# Assign the new column names to the data frame in place\n",
    "DF_total_all.columns = col_names\n",
    "\n",
    "# Print the columns\n",
    "print(\"Columns of DF_total_all:\")\n",
    "for column in DF_total_all.columns:\n",
    "    print(column)\n"
   ]
  },
  {
   "cell_type": "markdown",
   "metadata": {},
   "source": [
    "## Column Order"
   ]
  },
  {
   "cell_type": "markdown",
   "metadata": {},
   "source": [
    "Changing order of column to keep wanted data and location data easily grouped"
   ]
  },
  {
   "cell_type": "code",
   "execution_count": 7,
   "metadata": {},
   "outputs": [
    {
     "name": "stdout",
     "output_type": "stream",
     "text": [
      "['Total', 'Location', 'State', 'County', 'FIPS']\n"
     ]
    }
   ],
   "source": [
    "columns = DF_total_all.columns.tolist()\n",
    "columns[0], columns[1] = columns[1], columns[0]\n",
    "DF_total_all = DF_total_all.reindex(columns=columns)\n",
    "print(columns)"
   ]
  },
  {
   "cell_type": "markdown",
   "metadata": {},
   "source": [
    "## Column Types"
   ]
  },
  {
   "cell_type": "markdown",
   "metadata": {},
   "source": [
    "Checking datatypes, changing types, and checking again."
   ]
  },
  {
   "cell_type": "code",
   "execution_count": 9,
   "metadata": {},
   "outputs": [
    {
     "data": {
      "text/plain": [
       "Total       object\n",
       "Location    object\n",
       "State       object\n",
       "County      object\n",
       "FIPS        object\n",
       "dtype: object"
      ]
     },
     "execution_count": 9,
     "metadata": {},
     "output_type": "execute_result"
    }
   ],
   "source": [
    "DF_total_all.dtypes"
   ]
  },
  {
   "cell_type": "code",
   "execution_count": 10,
   "metadata": {},
   "outputs": [],
   "source": [
    "DF_total_all[['Total']] = DF_total_all[['Total']].astype(int)"
   ]
  },
  {
   "cell_type": "code",
   "execution_count": 12,
   "metadata": {},
   "outputs": [
    {
     "name": "stdout",
     "output_type": "stream",
     "text": [
      "Total        int32\n",
      "Location    object\n",
      "State       object\n",
      "County      object\n",
      "FIPS        object\n",
      "dtype: object\n"
     ]
    }
   ],
   "source": [
    "print(DF_total_all.dtypes)"
   ]
  },
  {
   "cell_type": "markdown",
   "metadata": {},
   "source": [
    "## Check for Missing Data"
   ]
  },
  {
   "cell_type": "code",
   "execution_count": 16,
   "metadata": {},
   "outputs": [
    {
     "name": "stdout",
     "output_type": "stream",
     "text": [
      "No missing data found in DataFrame '      Total                     Location State County   FIPS\n",
      "0     82217     Bullitt County, Kentucky    21    029  21029\n",
      "1     12371      Butler County, Kentucky    21    031  21031\n",
      "2     12649    Caldwell County, Kentucky    21    033  21033\n",
      "3     37103    Calloway County, Kentucky    21    035  21035\n",
      "4     11637    Magoffin County, Kentucky    21    153  21153\n",
      "...     ...                          ...   ...    ...    ...\n",
      "3216  17864    Haywood County, Tennessee    47    075  47075\n",
      "3217  27842  Henderson County, Tennessee    47    077  47077\n",
      "3218  34860         Howard County, Texas    48    227  48227\n",
      "3219   3202       Hudspeth County, Texas    48    229  48229\n",
      "3220  99956           Hunt County, Texas    48    231  48231\n",
      "\n",
      "[3221 rows x 5 columns]'\n"
     ]
    }
   ],
   "source": [
    "# Find the rows with missing data\n",
    "rows_with_missing_data = DF_total_all[DF_total_all.isnull().any(axis=1)]\n",
    "\n",
    "# Find the columns with missing data\n",
    "columns_with_missing_data = DF_total_all.columns[DF_total_all.isnull().any()]\n",
    "\n",
    "# Check if there is missing data in the dataframe\n",
    "if not rows_with_missing_data.empty or len(columns_with_missing_data) > 0:\n",
    "    print(f\"Missing data found in DataFrame '{DF_total_all}'\")\n",
    "\n",
    "    # Replace NaN values with string 'NaN'\n",
    "    DF_total_all = DF_total_all.replace({np.nan: 'NaN'})\n",
    "\n",
    "    # Print the rows with missing data\n",
    "    print(\"Rows with missing data:\")\n",
    "    print(rows_with_missing_data)\n",
    "\n",
    "    # Print the columns with missing data\n",
    "    print(\"Columns with missing data:\")\n",
    "    print(columns_with_missing_data)\n",
    "    print()\n",
    "\n",
    "    # Search for 'NaN' string in the dataframe\n",
    "    rows_with_nan_string = DF_total_all[DF_total_all.eq('NaN').any(axis=1)]\n",
    "    columns_with_nan_string = DF_total_all.columns[DF_total_all.eq('NaN').any()]\n",
    "\n",
    "    # Print the rows with 'NaN' string\n",
    "    print(\"Rows with 'NaN' string:\")\n",
    "    print(rows_with_nan_string)\n",
    "\n",
    "    # Print the columns with 'NaN' string\n",
    "    print(\"Columns with 'NaN' string:\")\n",
    "    print(columns_with_nan_string)\n",
    "    print()\n",
    "else:\n",
    "    print(f\"No missing data found in DataFrame '{DF_total_all}'\")"
   ]
  }
 ],
 "metadata": {
  "kernelspec": {
   "display_name": ".venv",
   "language": "python",
   "name": "python3"
  },
  "language_info": {
   "codemirror_mode": {
    "name": "ipython",
    "version": 3
   },
   "file_extension": ".py",
   "mimetype": "text/x-python",
   "name": "python",
   "nbconvert_exporter": "python",
   "pygments_lexer": "ipython3",
   "version": "3.11.1"
  },
  "orig_nbformat": 4
 },
 "nbformat": 4,
 "nbformat_minor": 2
}
